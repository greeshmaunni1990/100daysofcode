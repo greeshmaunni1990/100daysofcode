{
 "cells": [
  {
   "cell_type": "code",
   "execution_count": 5,
   "metadata": {},
   "outputs": [
    {
     "name": "stdout",
     "output_type": "stream",
     "text": [
      "('max', 8)\n",
      "('min', 3)\n"
     ]
    }
   ],
   "source": [
    "# Find the max\n",
    "x = max(5, 2, 8)\n",
    "print('max', x)\n",
    "\n",
    "# Find the min\n",
    "y = min(7, 5, 3)\n",
    "print('min', y)"
   ]
  },
  {
   "cell_type": "code",
   "execution_count": 9,
   "metadata": {},
   "outputs": [
    {
     "name": "stdout",
     "output_type": "stream",
     "text": [
      "('absolue', 3.12121)\n"
     ]
    }
   ],
   "source": [
    "# Find the absolute value\n",
    "a = -3.12121\n",
    "print('absolue', abs(a))"
   ]
  },
  {
   "cell_type": "code",
   "execution_count": 11,
   "metadata": {},
   "outputs": [
    {
     "name": "stdout",
     "output_type": "stream",
     "text": [
      "('power', 16)\n"
     ]
    }
   ],
   "source": [
    "# Calculate the power of  number\n",
    "pow = pow(4,2)\n",
    "print('power', pow)"
   ]
  },
  {
   "cell_type": "markdown",
   "metadata": {},
   "source": [
    "## Math Module"
   ]
  },
  {
   "cell_type": "code",
   "execution_count": 12,
   "metadata": {},
   "outputs": [],
   "source": [
    "import math"
   ]
  },
  {
   "cell_type": "code",
   "execution_count": 13,
   "metadata": {},
   "outputs": [
    {
     "name": "stdout",
     "output_type": "stream",
     "text": [
      "('square root', 5.0)\n"
     ]
    }
   ],
   "source": [
    "# Find the square root of a number\n",
    "square_root = math.sqrt(25)\n",
    "print('square root', square_root)"
   ]
  },
  {
   "cell_type": "code",
   "execution_count": 14,
   "metadata": {},
   "outputs": [
    {
     "name": "stdout",
     "output_type": "stream",
     "text": [
      "('ciel', 2.0)\n"
     ]
    }
   ],
   "source": [
    "# Find the Ceil(Round a number up to the next number)\n",
    "ciel = math.ceil(1.4)\n",
    "print('ciel', ciel)"
   ]
  },
  {
   "cell_type": "code",
   "execution_count": 15,
   "metadata": {},
   "outputs": [
    {
     "name": "stdout",
     "output_type": "stream",
     "text": [
      "('floor', 6.0)\n"
     ]
    }
   ],
   "source": [
    "# Find the floor of a number(Round a number down to the next number)\n",
    "floor = math.floor(6.4)\n",
    "print('floor', floor)"
   ]
  },
  {
   "cell_type": "code",
   "execution_count": 19,
   "metadata": {},
   "outputs": [
    {
     "name": "stdout",
     "output_type": "stream",
     "text": [
      "('pi value', 3.141592653589793)\n"
     ]
    }
   ],
   "source": [
    "# constant value\n",
    "pi_val = math.pi\n",
    "print('pi value', pi_val)"
   ]
  }
 ],
 "metadata": {
  "kernelspec": {
   "display_name": "Python 3",
   "language": "python",
   "name": "python3"
  },
  "language_info": {
   "codemirror_mode": {
    "name": "ipython",
    "version": 2
   },
   "file_extension": ".py",
   "mimetype": "text/x-python",
   "name": "python",
   "nbconvert_exporter": "python",
   "pygments_lexer": "ipython2",
   "version": "2.7.17"
  }
 },
 "nbformat": 4,
 "nbformat_minor": 2
}
