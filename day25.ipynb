{
 "cells": [
  {
   "cell_type": "code",
   "execution_count": 8,
   "metadata": {},
   "outputs": [],
   "source": [
    "import numpy as np\n",
    "from sklearn.linear_model import LinearRegression"
   ]
  },
  {
   "cell_type": "code",
   "execution_count": 7,
   "metadata": {},
   "outputs": [
    {
     "name": "stdout",
     "output_type": "stream",
     "text": [
      "[[21]\n",
      " [24]\n",
      " [27]\n",
      " [30]\n",
      " [33]\n",
      " [36]\n",
      " [39]]\n",
      "[ 4  7 10  8 12 11 13]\n"
     ]
    }
   ],
   "source": [
    "#.reshape() makes the input variables 2-D (1 column vs many rows)\n",
    "x =  np.array([21, 24, 27, 30, 33, 36, 39]).reshape(-1,1)\n",
    "y = np.array([4, 7, 10, 8, 12, 11, 13])\n",
    "\n",
    "print(x)\n",
    "print(y)"
   ]
  },
  {
   "cell_type": "code",
   "execution_count": 9,
   "metadata": {},
   "outputs": [
    {
     "data": {
      "text/plain": [
       "LinearRegression(copy_X=True, fit_intercept=True, n_jobs=None,\n",
       "         normalize=False)"
      ]
     },
     "execution_count": 9,
     "metadata": {},
     "output_type": "execute_result"
    }
   ],
   "source": [
    "# Create a linear regression model and fit the data\n",
    "model = LinearRegression()\n",
    "model.fit(x, y)"
   ]
  },
  {
   "cell_type": "code",
   "execution_count": 10,
   "metadata": {},
   "outputs": [
    {
     "name": "stdout",
     "output_type": "stream",
     "text": [
      "R-Squared value is 0.822716346154\n"
     ]
    }
   ],
   "source": [
    "# Once the model is fit, we can get the results such as R-Squared value, Intercept & Co-efficients\n",
    "\n",
    "# Find the R-Squared value\n",
    "r_square = model.score(x, y)\n",
    "print('R-Squared value is {}'.format(r_square))"
   ]
  },
  {
   "cell_type": "code",
   "execution_count": 11,
   "metadata": {},
   "outputs": [
    {
     "name": "stdout",
     "output_type": "stream",
     "text": [
      "Intercept value is -3.92857142857\n"
     ]
    }
   ],
   "source": [
    "# Find the intercept\n",
    "# The intercept (sometimes called the “constant”) in a regression model represents \n",
    "# the mean value of the response variable when all of the predictor variables \n",
    "# in the model are equal to zero.\n",
    "intercept_val = model.intercept_\n",
    "print('Intercept value is {}'.format(intercept_val))"
   ]
  },
  {
   "cell_type": "code",
   "execution_count": 12,
   "metadata": {},
   "outputs": [
    {
     "name": "stdout",
     "output_type": "stream",
     "text": [
      "coefficient is [0.44047619]\n"
     ]
    }
   ],
   "source": [
    "#  Find the Slope or Co-efficient value\n",
    "# Slope / co-eff value represents the y value increases by 0.44 units for 1 unit increase in x value.\n",
    "slope = model.coef_\n",
    "print('coefficient is {}'.format(slope))"
   ]
  },
  {
   "cell_type": "code",
   "execution_count": 13,
   "metadata": {},
   "outputs": [
    {
     "name": "stdout",
     "output_type": "stream",
     "text": [
      "[[21]\n",
      " [24]\n",
      " [27]\n",
      " [30]\n",
      " [33]\n",
      " [36]\n",
      " [39]]\n",
      "[[ 4]\n",
      " [ 7]\n",
      " [10]\n",
      " [ 8]\n",
      " [12]\n",
      " [11]\n",
      " [13]]\n"
     ]
    }
   ],
   "source": [
    "p = np.array([21, 24, 27, 30, 33, 36, 39]).reshape((-1, 1))\n",
    "q = np.array([4, 7, 10, 8, 12, 11, 13]).reshape((-1, 1))\n",
    "print(p)\n",
    "print(q)"
   ]
  },
  {
   "cell_type": "code",
   "execution_count": 15,
   "metadata": {},
   "outputs": [
    {
     "data": {
      "text/plain": [
       "LinearRegression(copy_X=True, fit_intercept=True, n_jobs=None,\n",
       "         normalize=False)"
      ]
     },
     "execution_count": 15,
     "metadata": {},
     "output_type": "execute_result"
    }
   ],
   "source": [
    "model_two = LinearRegression()\n",
    "model_two.fit(p, q)"
   ]
  },
  {
   "cell_type": "code",
   "execution_count": 16,
   "metadata": {},
   "outputs": [
    {
     "name": "stdout",
     "output_type": "stream",
     "text": [
      "rsquare is 0.822716346154\n"
     ]
    }
   ],
   "source": [
    "rsquare_two = model.score(p, q)\n",
    "print('rsquare is {}'.format(rsquare_two))"
   ]
  },
  {
   "cell_type": "code",
   "execution_count": 17,
   "metadata": {},
   "outputs": [
    {
     "name": "stdout",
     "output_type": "stream",
     "text": [
      "intercept is [-3.92857143]\n"
     ]
    }
   ],
   "source": [
    "intercept_two = model_two.intercept_\n",
    "print('intercept is {}'.format(intercept_two))"
   ]
  },
  {
   "cell_type": "code",
   "execution_count": 18,
   "metadata": {},
   "outputs": [
    {
     "name": "stdout",
     "output_type": "stream",
     "text": [
      "coefficient is [[0.44047619]]\n"
     ]
    }
   ],
   "source": [
    "coeff_two = model_two.coef_\n",
    "print('coefficient is {}'.format(coeff_two))"
   ]
  },
  {
   "cell_type": "markdown",
   "metadata": {},
   "source": [
    "### Predicting the response"
   ]
  },
  {
   "cell_type": "code",
   "execution_count": 19,
   "metadata": {},
   "outputs": [
    {
     "name": "stdout",
     "output_type": "stream",
     "text": [
      "Predicted response is [ 5.32142857  6.64285714  7.96428571  9.28571429 10.60714286 11.92857143\n",
      " 13.25      ]\n"
     ]
    }
   ],
   "source": [
    "# Once we have a satisfactory model, we can use it for predicting the response\n",
    "# for a new set of regressors using .predict() method.\n",
    "predicted_y = model.predict(x)\n",
    "print('Predicted response is {}'.format(predicted_y))"
   ]
  },
  {
   "cell_type": "code",
   "execution_count": 21,
   "metadata": {},
   "outputs": [
    {
     "name": "stdout",
     "output_type": "stream",
     "text": [
      "Predcited 2-D q response are: [[ 5.32142857]\n",
      " [ 6.64285714]\n",
      " [ 7.96428571]\n",
      " [ 9.28571429]\n",
      " [10.60714286]\n",
      " [11.92857143]\n",
      " [13.25      ]]\n"
     ]
    }
   ],
   "source": [
    "predicted_q = model_two.predict(p)\n",
    "print(\"Predcited 2-D q response are: {}\".format(predicted_q))"
   ]
  },
  {
   "cell_type": "code",
   "execution_count": 22,
   "metadata": {},
   "outputs": [
    {
     "name": "stdout",
     "output_type": "stream",
     "text": [
      "Verifying the above reults here: [[ 5.32142857]\n",
      " [ 6.64285714]\n",
      " [ 7.96428571]\n",
      " [ 9.28571429]\n",
      " [10.60714286]\n",
      " [11.92857143]\n",
      " [13.25      ]]\n"
     ]
    }
   ],
   "source": [
    "# Verifying the intercepts & slopes from the model.\n",
    "pred_q = model_two.intercept_ + (model_two.coef_ * p)\n",
    "print(\"Verifying the above reults here: {}\".format(pred_q))"
   ]
  }
 ],
 "metadata": {
  "kernelspec": {
   "display_name": "Python 3",
   "language": "python",
   "name": "python3"
  },
  "language_info": {
   "codemirror_mode": {
    "name": "ipython",
    "version": 2
   },
   "file_extension": ".py",
   "mimetype": "text/x-python",
   "name": "python",
   "nbconvert_exporter": "python",
   "pygments_lexer": "ipython2",
   "version": "2.7.17"
  }
 },
 "nbformat": 4,
 "nbformat_minor": 2
}
