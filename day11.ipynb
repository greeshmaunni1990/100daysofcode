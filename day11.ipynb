{
 "cells": [
  {
   "cell_type": "code",
   "execution_count": 1,
   "metadata": {},
   "outputs": [],
   "source": [
    "import pandas as pd"
   ]
  },
  {
   "cell_type": "code",
   "execution_count": 2,
   "metadata": {},
   "outputs": [
    {
     "name": "stdout",
     "output_type": "stream",
     "text": [
      "This is a function\n"
     ]
    }
   ],
   "source": [
    "def function_one():\n",
    "    print('This is a function')\n",
    "    \n",
    "function_one()"
   ]
  },
  {
   "cell_type": "code",
   "execution_count": 6,
   "metadata": {},
   "outputs": [
    {
     "name": "stdout",
     "output_type": "stream",
     "text": [
      "This is a wooden box\n",
      "This is a Oranges\n",
      "This is a Apples\n"
     ]
    }
   ],
   "source": [
    "# Default function\n",
    "\n",
    "def default_arg_function(item='wooden box'):\n",
    "    print('This is a '+item)\n",
    "default_arg_function()\n",
    "default_arg_function('Oranges')\n",
    "default_arg_function('Apples')"
   ]
  },
  {
   "cell_type": "code",
   "execution_count": 9,
   "metadata": {},
   "outputs": [
    {
     "name": "stdout",
     "output_type": "stream",
     "text": [
      "(2, 3)\n",
      "(1, 2, 3, 4, 5, 6, 7, 8, 9)\n"
     ]
    }
   ],
   "source": [
    "# Arbitrary arguments where you can have any number of arguments\n",
    "def arbitrary_function(*args):\n",
    "    print(args)\n",
    "arbitrary_function(2, 3)\n",
    "arbitrary_function(1,2,3,4,5,6,7,8,9)"
   ]
  },
  {
   "cell_type": "code",
   "execution_count": 16,
   "metadata": {},
   "outputs": [
    {
     "name": "stdout",
     "output_type": "stream",
     "text": [
      "5\n"
     ]
    }
   ],
   "source": [
    "# Return particular value from arbitrary_function\n",
    "def arb_function(*args):\n",
    "    print(args[2])\n",
    "    \n",
    "arb_function(2, 4, 5, 6)"
   ]
  },
  {
   "cell_type": "code",
   "execution_count": 20,
   "metadata": {},
   "outputs": [
    {
     "name": "stdout",
     "output_type": "stream",
     "text": [
      "name is Keylee and age is 25\n"
     ]
    }
   ],
   "source": [
    "# Keyword arguments where we can pass the arguments in non positional manner\n",
    "def keyword_argument(name, age):\n",
    "    print('name is {} and age is {}'.format(name, age))\n",
    "keyword_argument(age=25, name = 'Keylee')"
   ]
  },
  {
   "cell_type": "code",
   "execution_count": 23,
   "metadata": {},
   "outputs": [
    {
     "data": {
      "text/plain": [
       "25"
      ]
     },
     "execution_count": 23,
     "metadata": {},
     "output_type": "execute_result"
    }
   ],
   "source": [
    "# Return value from function\n",
    "def return_function(a, b):\n",
    "    return(a + b)\n",
    "return_function(10, 15)"
   ]
  },
  {
   "cell_type": "code",
   "execution_count": 24,
   "metadata": {},
   "outputs": [
    {
     "name": "stdout",
     "output_type": "stream",
     "text": [
      "(10, 'cars')\n",
      "(10, 'bikes')\n",
      "(10, 'aeroplanes')\n",
      "(21, 'cars')\n",
      "(21, 'bikes')\n",
      "(21, 'aeroplanes')\n",
      "(25, 'cars')\n",
      "(25, 'bikes')\n",
      "(25, 'aeroplanes')\n"
     ]
    }
   ],
   "source": [
    "# Nested function is a function inside another function\n",
    "qty = [10, 21, 25]\n",
    "pdt = ['cars', 'bikes', 'aeroplanes']\n",
    "\n",
    "for i in qty:\n",
    "    for j in pdt:\n",
    "        print(i, j)"
   ]
  },
  {
   "cell_type": "code",
   "execution_count": 25,
   "metadata": {},
   "outputs": [
    {
     "name": "stdout",
     "output_type": "stream",
     "text": [
      "10\n",
      "The process is complete\n"
     ]
    }
   ],
   "source": [
    "# Recursive function is a function that repeats its behaviour until the condition is met\n",
    "def recursive_function(num):\n",
    "    if num == 10:\n",
    "        print(num)\n",
    "        print(\"The process is complete\")\n",
    "    else:\n",
    "        recursive_function(num + 1)\n",
    "        \n",
    "recursive_function(6)"
   ]
  },
  {
   "cell_type": "code",
   "execution_count": null,
   "metadata": {},
   "outputs": [],
   "source": []
  },
  {
   "cell_type": "code",
   "execution_count": null,
   "metadata": {},
   "outputs": [],
   "source": []
  },
  {
   "cell_type": "code",
   "execution_count": null,
   "metadata": {},
   "outputs": [],
   "source": []
  },
  {
   "cell_type": "code",
   "execution_count": null,
   "metadata": {},
   "outputs": [],
   "source": []
  },
  {
   "cell_type": "code",
   "execution_count": null,
   "metadata": {},
   "outputs": [],
   "source": []
  }
 ],
 "metadata": {
  "kernelspec": {
   "display_name": "Python 3",
   "language": "python",
   "name": "python3"
  },
  "language_info": {
   "codemirror_mode": {
    "name": "ipython",
    "version": 2
   },
   "file_extension": ".py",
   "mimetype": "text/x-python",
   "name": "python",
   "nbconvert_exporter": "python",
   "pygments_lexer": "ipython2",
   "version": "2.7.17"
  }
 },
 "nbformat": 4,
 "nbformat_minor": 2
}
