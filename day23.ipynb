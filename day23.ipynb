{
 "cells": [
  {
   "cell_type": "code",
   "execution_count": 1,
   "metadata": {},
   "outputs": [],
   "source": [
    "import mysql.connector"
   ]
  },
  {
   "cell_type": "code",
   "execution_count": 2,
   "metadata": {},
   "outputs": [],
   "source": [
    "mydb=mysql.connector.connect(host='localhost',\n",
    "                            user='root',\n",
    "                            password='cLOUDBERRY@1990',\n",
    "                            database='test_data')"
   ]
  },
  {
   "cell_type": "code",
   "execution_count": 3,
   "metadata": {},
   "outputs": [],
   "source": [
    "mycursor = mydb.cursor(buffered=True)"
   ]
  },
  {
   "cell_type": "code",
   "execution_count": 4,
   "metadata": {},
   "outputs": [
    {
     "name": "stdout",
     "output_type": "stream",
     "text": [
      "(u'Betty', 1)\n",
      "(u'Betty', 1)\n",
      "(u'Jughead', 20)\n",
      "(u'Veronica', 18)\n",
      "(u'Jughead', 20)\n",
      "(u'Veronica', 18)\n"
     ]
    }
   ],
   "source": [
    "# SELECT statement\n",
    "mycursor.execute('SELECT * FROM customers')\n",
    "\n",
    "result = mycursor.fetchall() \n",
    "\n",
    "for x in result:\n",
    "    print(x)\n"
   ]
  },
  {
   "cell_type": "code",
   "execution_count": 5,
   "metadata": {},
   "outputs": [
    {
     "name": "stdout",
     "output_type": "stream",
     "text": [
      "(1,)\n",
      "(1,)\n"
     ]
    }
   ],
   "source": [
    "mycursor.execute(\"SELECT age FROM customers WHERE name = 'Betty'\")\n",
    "result_1=mycursor.fetchall()\n",
    "\n",
    "for x in result_1:\n",
    "    print(x)"
   ]
  },
  {
   "cell_type": "code",
   "execution_count": 6,
   "metadata": {},
   "outputs": [
    {
     "name": "stdout",
     "output_type": "stream",
     "text": [
      "(20, u'Jughead')\n",
      "(20, u'Jughead')\n"
     ]
    }
   ],
   "source": [
    "query = \"SELECT age, name FROM customers WHERE name in('Jughead', 'Archie') ORDER BY 2\"\n",
    "mycursor.execute(query)\n",
    "result_3 = mycursor.fetchall()\n",
    "\n",
    "for x in result_3:\n",
    "    print(x)"
   ]
  },
  {
   "cell_type": "code",
   "execution_count": 7,
   "metadata": {},
   "outputs": [
    {
     "name": "stdout",
     "output_type": "stream",
     "text": [
      "(0L, 'record(s) deleted')\n"
     ]
    }
   ],
   "source": [
    "# DELETE STATEMENT\n",
    "# comit after making changes to the db. Otherwise changes won't be reflected\n",
    "query = \"DELETE FROM test_data.customers WHERE name='Archie'\"\n",
    "mycursor.execute(query)\n",
    "mydb.commit()\n",
    "\n",
    "print(mycursor.rowcount, 'record(s) deleted')"
   ]
  },
  {
   "cell_type": "code",
   "execution_count": 8,
   "metadata": {},
   "outputs": [],
   "source": [
    "# DROP TABLE\n",
    "query = \"DROP TABLE customers\""
   ]
  },
  {
   "cell_type": "code",
   "execution_count": 9,
   "metadata": {},
   "outputs": [],
   "source": [
    "# DROP TABLE ONLY IF IT EXISTS\n",
    "query = \"DROP TABLE IF EXISTS customers\""
   ]
  },
  {
   "cell_type": "code",
   "execution_count": 10,
   "metadata": {},
   "outputs": [
    {
     "name": "stdout",
     "output_type": "stream",
     "text": [
      "(0L, 'record(s) affected')\n"
     ]
    }
   ],
   "source": [
    "# UPDATE query\n",
    "query = \"UPDATE customers SET age=1 WHERE name='Betty'\"\n",
    "mycursor.execute(query)\n",
    "mydb.commit()\n",
    "print(mycursor.rowcount, \"record(s) affected\")"
   ]
  },
  {
   "cell_type": "code",
   "execution_count": 16,
   "metadata": {},
   "outputs": [
    {
     "name": "stdout",
     "output_type": "stream",
     "text": [
      "(3L, 'records are inserted')\n"
     ]
    }
   ],
   "source": [
    "# JOIN python\n",
    "mycursor.execute('CREATE TABLE relation(age TINYINT(255), relationship VARCHAR(255))')\n",
    "sql=\"INSERT INTO test_data.relation(age, relationship) VALUES (%s, %s)\"\n",
    "val =[(18, 'self'), (19, 'Friend'), (20, 'Best Friend')]\n",
    "mycursor.executemany(sql, val)\n",
    "mydb.commit()\n",
    "print(mycursor.rowcount, \"records are inserted\")"
   ]
  },
  {
   "cell_type": "code",
   "execution_count": 17,
   "metadata": {},
   "outputs": [
    {
     "name": "stdout",
     "output_type": "stream",
     "text": [
      "(u'Jughead', u'Best Friend')\n",
      "(u'Veronica', u'self')\n",
      "(u'Jughead', u'Best Friend')\n",
      "(u'Veronica', u'self')\n"
     ]
    }
   ],
   "source": [
    "# join both tables \n",
    "\n",
    "query = \"SELECT c.name, r.relationship FROM customers c JOIN relation r ON c.age=r.age\"\n",
    "mycursor.execute(query)\n",
    "\n",
    "result = mycursor.fetchall()\n",
    "for x in result:\n",
    "    print(x)"
   ]
  }
 ],
 "metadata": {
  "kernelspec": {
   "display_name": "Python 3",
   "language": "python",
   "name": "python3"
  },
  "language_info": {
   "codemirror_mode": {
    "name": "ipython",
    "version": 2
   },
   "file_extension": ".py",
   "mimetype": "text/x-python",
   "name": "python",
   "nbconvert_exporter": "python",
   "pygments_lexer": "ipython2",
   "version": "2.7.17"
  }
 },
 "nbformat": 4,
 "nbformat_minor": 2
}
