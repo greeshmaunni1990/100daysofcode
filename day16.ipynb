{
 "cells": [
  {
   "cell_type": "code",
   "execution_count": 1,
   "metadata": {},
   "outputs": [],
   "source": [
    "import json"
   ]
  },
  {
   "cell_type": "code",
   "execution_count": 14,
   "metadata": {},
   "outputs": [
    {
     "name": "stdout",
     "output_type": "stream",
     "text": [
      "Betty\n",
      "19\n",
      "Female\n"
     ]
    }
   ],
   "source": [
    "# Convert JSON string in Python using the json.loads() method.\n",
    "x = '{\"name\": \"Betty\", \"age\": 19, \"gender\": \"Female\"}'\n",
    "x_file = json.loads(x)\n",
    "print(x_file[\"name\"])\n",
    "print(x_file[\"age\"])\n",
    "print(x_file['gender'])"
   ]
  },
  {
   "cell_type": "code",
   "execution_count": 16,
   "metadata": {},
   "outputs": [
    {
     "name": "stdout",
     "output_type": "stream",
     "text": [
      "{\"gender\": \"Female\", \"age\": 19, \"name\": \"Betty\"}\n",
      "{\"name\": \"Betty\", \"age\": 19, \"gender\": \"Female\"}\n"
     ]
    }
   ],
   "source": [
    "# convert python to json object\n",
    "y = json.dumps(x_file)\n",
    "print(y)\n",
    "print(x)"
   ]
  },
  {
   "cell_type": "code",
   "execution_count": 17,
   "metadata": {},
   "outputs": [
    {
     "name": "stdout",
     "output_type": "stream",
     "text": [
      "{\"name\": \"John\", \"divorced\": false, \"cars\": [{\"mpg\": 27.5, \"model\": \"BMW 230\"}, {\"mpg\": 24.1, \"model\": \"Ford Edge\"}], \"age\": 30, \"married\": true, \"pets\": null, \"children\": [\"Ann\", \"Billy\"]}\n"
     ]
    }
   ],
   "source": [
    "# convert python object with all data types to json\n",
    "j = {\n",
    "    \"name\": \"John\",\n",
    "    \"age\": 30,\n",
    "    \"married\": True,\n",
    "    \"divorced\": False,\n",
    "    \"children\": (\"Ann\",\"Billy\"),\n",
    "    \"pets\": None,\n",
    "    \"cars\": [\n",
    "            {\"model\": \"BMW 230\", \"mpg\": 27.5},\n",
    "            {\"model\": \"Ford Edge\", \"mpg\": 24.1}\n",
    "            ]\n",
    "    }\n",
    "print(json.dumps(j))"
   ]
  },
  {
   "cell_type": "code",
   "execution_count": 19,
   "metadata": {},
   "outputs": [
    {
     "name": "stdout",
     "output_type": "stream",
     "text": [
      "{\n",
      "    \"name\": \"John\", \n",
      "    \"divorced\": false, \n",
      "    \"cars\": [\n",
      "        {\n",
      "            \"mpg\": 27.5, \n",
      "            \"model\": \"BMW 230\"\n",
      "        }, \n",
      "        {\n",
      "            \"mpg\": 24.1, \n",
      "            \"model\": \"Ford Edge\"\n",
      "        }\n",
      "    ], \n",
      "    \"age\": 30, \n",
      "    \"married\": true, \n",
      "    \"pets\": null, \n",
      "    \"children\": [\n",
      "        \"Ann\", \n",
      "        \"Billy\"\n",
      "    ]\n",
      "}\n"
     ]
    }
   ],
   "source": [
    "# format the json to readable manner\n",
    "print(json.dumps(j, indent=4))"
   ]
  },
  {
   "cell_type": "code",
   "execution_count": 20,
   "metadata": {},
   "outputs": [
    {
     "name": "stdout",
     "output_type": "stream",
     "text": [
      "{\n",
      "    \"name\"=\"John\".\n",
      "    \"divorced\"=false.\n",
      "    \"cars\"=[\n",
      "        {\n",
      "            \"mpg\"=27.5.\n",
      "            \"model\"=\"BMW 230\"\n",
      "        }.\n",
      "        {\n",
      "            \"mpg\"=24.1.\n",
      "            \"model\"=\"Ford Edge\"\n",
      "        }\n",
      "    ].\n",
      "    \"age\"=30.\n",
      "    \"married\"=true.\n",
      "    \"pets\"=null.\n",
      "    \"children\"=[\n",
      "        \"Ann\".\n",
      "        \"Billy\"\n",
      "    ]\n",
      "}\n"
     ]
    }
   ],
   "source": [
    "# use custom separator to replace the default separator\n",
    "print(json.dumps(j, indent=4, separators=(\".\", \"=\")))"
   ]
  },
  {
   "cell_type": "code",
   "execution_count": 21,
   "metadata": {},
   "outputs": [
    {
     "name": "stdout",
     "output_type": "stream",
     "text": [
      "{\n",
      "    \"age\": 30, \n",
      "    \"cars\": [\n",
      "        {\n",
      "            \"model\": \"BMW 230\", \n",
      "            \"mpg\": 27.5\n",
      "        }, \n",
      "        {\n",
      "            \"model\": \"Ford Edge\", \n",
      "            \"mpg\": 24.1\n",
      "        }\n",
      "    ], \n",
      "    \"children\": [\n",
      "        \"Ann\", \n",
      "        \"Billy\"\n",
      "    ], \n",
      "    \"divorced\": false, \n",
      "    \"married\": true, \n",
      "    \"name\": \"John\", \n",
      "    \"pets\": null\n",
      "}\n"
     ]
    }
   ],
   "source": [
    "# sort aplhabetically by keys\n",
    "print(json.dumps(j, indent=4, sort_keys=True))"
   ]
  }
 ],
 "metadata": {
  "kernelspec": {
   "display_name": "Python 3",
   "language": "python",
   "name": "python3"
  },
  "language_info": {
   "codemirror_mode": {
    "name": "ipython",
    "version": 2
   },
   "file_extension": ".py",
   "mimetype": "text/x-python",
   "name": "python",
   "nbconvert_exporter": "python",
   "pygments_lexer": "ipython2",
   "version": "2.7.17"
  }
 },
 "nbformat": 4,
 "nbformat_minor": 2
}
