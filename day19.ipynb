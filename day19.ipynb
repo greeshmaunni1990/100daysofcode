{
 "cells": [
  {
   "cell_type": "code",
   "execution_count": 1,
   "metadata": {},
   "outputs": [
    {
     "name": "stdout",
     "output_type": "stream",
     "text": [
      "I have 4 cats\n"
     ]
    }
   ],
   "source": [
    "# String formatting\n",
    "text_one = 'I have {} cats'\n",
    "num = 4\n",
    "print(text_one.format(num))"
   ]
  },
  {
   "cell_type": "code",
   "execution_count": 3,
   "metadata": {},
   "outputs": [
    {
     "name": "stdout",
     "output_type": "stream",
     "text": [
      "I have 4 cats and 2 dogs\n"
     ]
    }
   ],
   "source": [
    "text_two = 'I have {} cats and {} dogs'\n",
    "num_cat = 4\n",
    "num_dog = 2\n",
    "print(text_two.format(num_cat, num_dog))"
   ]
  },
  {
   "cell_type": "code",
   "execution_count": 4,
   "metadata": {},
   "outputs": [
    {
     "name": "stdout",
     "output_type": "stream",
     "text": [
      "I bought 4 apples for 25 rupees and 5 oranges for 20 rupees\n"
     ]
    }
   ],
   "source": [
    "# use the index to place the strings\n",
    "text_three = 'I bought {0} apples for {1} rupees and {2} oranges for {3} rupees'\n",
    "zero_index = 4\n",
    "one_index = 25\n",
    "two_index = 5\n",
    "three_index = 20\n",
    "print(text_three.format(zero_index, one_index, two_index, three_index))"
   ]
  },
  {
   "cell_type": "code",
   "execution_count": 5,
   "metadata": {},
   "outputs": [
    {
     "name": "stdout",
     "output_type": "stream",
     "text": [
      "There are 2 dogs and 4 cats in my house\n"
     ]
    }
   ],
   "source": [
    "# explicitly assign values\n",
    "text_four = 'There are {one} dogs and {two} cats in my house'\n",
    "print(text_four.format(one=2, two=4))"
   ]
  },
  {
   "cell_type": "code",
   "execution_count": null,
   "metadata": {},
   "outputs": [],
   "source": [
    "# format number to a sti"
   ]
  }
 ],
 "metadata": {
  "kernelspec": {
   "display_name": "Python 3",
   "language": "python",
   "name": "python3"
  },
  "language_info": {
   "codemirror_mode": {
    "name": "ipython",
    "version": 2
   },
   "file_extension": ".py",
   "mimetype": "text/x-python",
   "name": "python",
   "nbconvert_exporter": "python",
   "pygments_lexer": "ipython2",
   "version": "2.7.17"
  }
 },
 "nbformat": 4,
 "nbformat_minor": 2
}
