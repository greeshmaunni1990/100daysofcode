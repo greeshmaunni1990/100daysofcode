{
 "cells": [
  {
   "cell_type": "code",
   "execution_count": 31,
   "metadata": {},
   "outputs": [
    {
     "name": "stdout",
     "output_type": "stream",
     "text": [
      "My name is Archie Andrews\n"
     ]
    }
   ],
   "source": [
    "# Inheritance will allow a class to iherit all the property froma another class\n",
    "\n",
    "# Create a Parent class\n",
    "class Parent:\n",
    "    def __init__(self, fname, lname):\n",
    "        self.fname = fname\n",
    "        self.lname = lname\n",
    "    def intro_function(self):\n",
    "        print('My name is {}'.format(self.fname + ' ' + self.lname))\n",
    "        \n",
    "parent = Parent('Archie', 'Andrews')\n",
    "parent.intro_function()"
   ]
  },
  {
   "cell_type": "code",
   "execution_count": 32,
   "metadata": {},
   "outputs": [
    {
     "name": "stdout",
     "output_type": "stream",
     "text": [
      "My name is Veronica Lodge\n"
     ]
    }
   ],
   "source": [
    "# Create a child class\n",
    "class Student(Parent):\n",
    "    pass\n",
    "student = Student('Veronica', 'Lodge')\n",
    "student.intro_function()"
   ]
  },
  {
   "cell_type": "code",
   "execution_count": 33,
   "metadata": {},
   "outputs": [
    {
     "name": "stdout",
     "output_type": "stream",
     "text": [
      "My name is Jughead Jones\n",
      "My name is what hell\n"
     ]
    }
   ],
   "source": [
    "# adding __init__ function inside the child will override the init funcion of the parent\n",
    "class Student2(Parent):\n",
    "    def __init__(self, fname, lname):\n",
    "        self.fname = fname\n",
    "        self.lname = lname\n",
    "    def intro_function(self):\n",
    "        print('My name is {}'.format(self.fname +' ' + self.lname))\n",
    "student2 = Student2('Jughead', 'Jones')\n",
    "student2.intro_function()"
   ]
  },
  {
   "cell_type": "code",
   "execution_count": 37,
   "metadata": {},
   "outputs": [
    {
     "name": "stdout",
     "output_type": "stream",
     "text": [
      "My name is Alice Cooper\n"
     ]
    }
   ],
   "source": [
    "# To keep the inheritance of the parent's __init__() function, add a call to the parent's __init__() function as below.\n",
    "class Student2(Parent):\n",
    "    def __init__(self, fname, lname):\n",
    "        Parent.__init__(self, fname, lname)\n",
    "        \n",
    "student3 = Student2(\"Alice\", 'Cooper')\n",
    "student3.intro_function()"
   ]
  }
 ],
 "metadata": {
  "kernelspec": {
   "display_name": "Python 3",
   "language": "python",
   "name": "python3"
  },
  "language_info": {
   "codemirror_mode": {
    "name": "ipython",
    "version": 2
   },
   "file_extension": ".py",
   "mimetype": "text/x-python",
   "name": "python",
   "nbconvert_exporter": "python",
   "pygments_lexer": "ipython2",
   "version": "2.7.17"
  }
 },
 "nbformat": 4,
 "nbformat_minor": 2
}
