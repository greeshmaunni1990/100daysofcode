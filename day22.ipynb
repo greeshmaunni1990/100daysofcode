{
 "cells": [
  {
   "cell_type": "code",
   "execution_count": 2,
   "metadata": {},
   "outputs": [],
   "source": [
    "# MySQL using python\n",
    "\n",
    "import mysql.connector"
   ]
  },
  {
   "cell_type": "code",
   "execution_count": 15,
   "metadata": {},
   "outputs": [],
   "source": [
    "mydb = mysql.connector.connect(host='localhost',\n",
    "                              user='root',\n",
    "                              password='cLOUDBERRY@1990')"
   ]
  },
  {
   "cell_type": "code",
   "execution_count": 16,
   "metadata": {},
   "outputs": [],
   "source": [
    "# Create a new database\n",
    "mycursor = mydb.cursor(buffered=True)\n"
   ]
  },
  {
   "cell_type": "code",
   "execution_count": 17,
   "metadata": {},
   "outputs": [],
   "source": [
    "mycursor.execute('CREATE DATABASE test_data')"
   ]
  },
  {
   "cell_type": "code",
   "execution_count": 18,
   "metadata": {},
   "outputs": [
    {
     "name": "stdout",
     "output_type": "stream",
     "text": [
      "(u'information_schema',)\n",
      "(u'my_database',)\n",
      "(u'mysql',)\n",
      "(u'online_movie_rating',)\n",
      "(u'performance_schema',)\n",
      "(u'sys',)\n",
      "(u'test_data',)\n",
      "(u'test_database',)\n"
     ]
    }
   ],
   "source": [
    "# VIEW ALL DATABASE\n",
    "mycursor.execute('SHOW DATABASES')\n",
    "for x in mycursor:\n",
    "    print(x)"
   ]
  },
  {
   "cell_type": "code",
   "execution_count": 19,
   "metadata": {},
   "outputs": [],
   "source": [
    "# connecting database to sql connection\n",
    "mydb = mysql.connector.connect(host='localhost',\n",
    "                              user='root',\n",
    "                              password='cLOUDBERRY@1990',\n",
    "                              database='test_data')"
   ]
  },
  {
   "cell_type": "code",
   "execution_count": 30,
   "metadata": {},
   "outputs": [],
   "source": [
    "\n",
    "mydb = mysql.connector.connect(host='localhost',\n",
    "                              user='root',\n",
    "                              password='cLOUDBERRY@1990',\n",
    "                              database='test_data')\n",
    "\n",
    "mycursor = mydb.cursor(buffered=True)\n",
    "\n"
   ]
  },
  {
   "cell_type": "code",
   "execution_count": 33,
   "metadata": {},
   "outputs": [],
   "source": [
    "# Create new table\n",
    "mycursor.execute(\"CREATE TABLE customers(name VARCHAR(25), age TINYINT(255))\")"
   ]
  },
  {
   "cell_type": "code",
   "execution_count": 32,
   "metadata": {},
   "outputs": [
    {
     "name": "stdout",
     "output_type": "stream",
     "text": [
      "(u'customers',)\n"
     ]
    }
   ],
   "source": [
    "# View table in database\n",
    "mycursor.execute('SHOW TABLES')\n",
    "\n",
    "for x in mycursor:\n",
    "    print(x)"
   ]
  },
  {
   "cell_type": "code",
   "execution_count": 36,
   "metadata": {},
   "outputs": [
    {
     "name": "stdout",
     "output_type": "stream",
     "text": [
      "1\n"
     ]
    }
   ],
   "source": [
    "# Insert a new record to the table\n",
    "record = \"INSERT INTO customers(name, age)VALUES(%s, %s)\"\n",
    "val = ('Betty', 19)\n",
    "\n",
    "mycursor.execute(record, val)\n",
    "mydb.commit()\n",
    "\n",
    "# print the number of rows\n",
    "print(mycursor.rowcount)"
   ]
  },
  {
   "cell_type": "code",
   "execution_count": 39,
   "metadata": {},
   "outputs": [
    {
     "name": "stdout",
     "output_type": "stream",
     "text": [
      "3\n"
     ]
    }
   ],
   "source": [
    "# Insert multiple records to the table\n",
    "record = \"INSERT INTO customers(name, age)VALUES(%s, %s)\"\n",
    "val = [('Jughead', 20), ('Archie', 19), ('Veronica', 18)]\n",
    "\n",
    "mycursor.executemany(record, val)\n",
    "mydb.commit()\n",
    "\n",
    "print(mycursor.rowcount)"
   ]
  }
 ],
 "metadata": {
  "kernelspec": {
   "display_name": "Python 3",
   "language": "python",
   "name": "python3"
  },
  "language_info": {
   "codemirror_mode": {
    "name": "ipython",
    "version": 2
   },
   "file_extension": ".py",
   "mimetype": "text/x-python",
   "name": "python",
   "nbconvert_exporter": "python",
   "pygments_lexer": "ipython2",
   "version": "2.7.17"
  }
 },
 "nbformat": 4,
 "nbformat_minor": 2
}
