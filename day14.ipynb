{
 "cells": [
  {
   "cell_type": "code",
   "execution_count": 1,
   "metadata": {},
   "outputs": [],
   "source": [
    "import datetime"
   ]
  },
  {
   "cell_type": "code",
   "execution_count": 9,
   "metadata": {},
   "outputs": [
    {
     "name": "stdout",
     "output_type": "stream",
     "text": [
      "2022-05-25 11:39:05.215254\n",
      "('year', 2022)\n",
      "('month', 5)\n",
      "('day', 25)\n",
      "('hour', 11)\n",
      "('minute', 39)\n",
      "('seconds', 5)\n"
     ]
    }
   ],
   "source": [
    "# display current date\n",
    "date = datetime.datetime.now()\n",
    "print(date)\n",
    "\n",
    "# Extract year\n",
    "year = date.year\n",
    "print('year', year)\n",
    "\n",
    "# Extarct month\n",
    "month = date.month\n",
    "print('month', month)\n",
    "\n",
    "# Extract day\n",
    "day = date.day\n",
    "print('day', day)\n",
    "\n",
    "# Extarct hour\n",
    "hour = date.hour\n",
    "print('hour', hour)\n",
    "\n",
    "# Extract minute\n",
    "minute = date.minute\n",
    "print('minute', minute)\n",
    "\n",
    "# Extract seconds\n",
    "seconds = date.second\n",
    "print('seconds', seconds)"
   ]
  },
  {
   "cell_type": "code",
   "execution_count": 18,
   "metadata": {},
   "outputs": [
    {
     "name": "stdout",
     "output_type": "stream",
     "text": [
      "Wed May 25 11:39:05 2022\n"
     ]
    }
   ],
   "source": [
    "# Return the name of the weekday\n",
    "print(date.strftime('%c'))"
   ]
  },
  {
   "cell_type": "code",
   "execution_count": 19,
   "metadata": {},
   "outputs": [
    {
     "name": "stdout",
     "output_type": "stream",
     "text": [
      "2022-05-25\n"
     ]
    }
   ],
   "source": [
    "# construct date using datetime\n",
    "y = datetime.date(2022, 5, 25)\n",
    "print(y)"
   ]
  }
 ],
 "metadata": {
  "kernelspec": {
   "display_name": "Python 3",
   "language": "python",
   "name": "python3"
  },
  "language_info": {
   "codemirror_mode": {
    "name": "ipython",
    "version": 2
   },
   "file_extension": ".py",
   "mimetype": "text/x-python",
   "name": "python",
   "nbconvert_exporter": "python",
   "pygments_lexer": "ipython2",
   "version": "2.7.17"
  }
 },
 "nbformat": 4,
 "nbformat_minor": 2
}
