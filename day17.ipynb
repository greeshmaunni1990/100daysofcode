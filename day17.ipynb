{
 "cells": [
  {
   "cell_type": "code",
   "execution_count": 1,
   "metadata": {},
   "outputs": [],
   "source": [
    "import re"
   ]
  },
  {
   "cell_type": "code",
   "execution_count": 11,
   "metadata": {},
   "outputs": [],
   "source": [
    "txt1 = 'He passed in IELTS Exam'\n",
    "\n",
    "x = re.search('^He.*Exam$', txt1)"
   ]
  },
  {
   "cell_type": "code",
   "execution_count": 12,
   "metadata": {},
   "outputs": [
    {
     "name": "stdout",
     "output_type": "stream",
     "text": [
      "Matched\n"
     ]
    }
   ],
   "source": [
    "if x:\n",
    "    print('Matched')\n",
    "else:\n",
    "    print('Not matched')"
   ]
  },
  {
   "cell_type": "code",
   "execution_count": 16,
   "metadata": {},
   "outputs": [
    {
     "name": "stdout",
     "output_type": "stream",
     "text": [
      "['Ti', 'Ti']\n",
      "[]\n"
     ]
    }
   ],
   "source": [
    "# findall method in re\n",
    "txt_two = 'Tips and Ties'\n",
    "y = re.findall('Ti', txt_two)\n",
    "print(y)\n",
    "z = re.findall('me', txt_two)\n",
    "print(z)"
   ]
  },
  {
   "cell_type": "code",
   "execution_count": 21,
   "metadata": {},
   "outputs": [
    {
     "name": "stdout",
     "output_type": "stream",
     "text": [
      "['Tips', 'and', 'Ties']\n"
     ]
    }
   ],
   "source": [
    "# split() function returns a list where the string has been split at each match\n",
    "s = re.split(' ', txt_two)\n",
    "print(s)\n"
   ]
  },
  {
   "cell_type": "code",
   "execution_count": 23,
   "metadata": {},
   "outputs": [
    {
     "name": "stdout",
     "output_type": "stream",
     "text": [
      "['Tips', 'and Ties']\n"
     ]
    }
   ],
   "source": [
    "# In the above method, if we have to split the string at the first white-space character:\n",
    "t = re.split(' ', txt_two, maxsplit=1)\n",
    "print(t)"
   ]
  },
  {
   "cell_type": "code",
   "execution_count": null,
   "metadata": {},
   "outputs": [],
   "source": []
  }
 ],
 "metadata": {
  "kernelspec": {
   "display_name": "Python 3",
   "language": "python",
   "name": "python3"
  },
  "language_info": {
   "codemirror_mode": {
    "name": "ipython",
    "version": 2
   },
   "file_extension": ".py",
   "mimetype": "text/x-python",
   "name": "python",
   "nbconvert_exporter": "python",
   "pygments_lexer": "ipython2",
   "version": "2.7.17"
  }
 },
 "nbformat": 4,
 "nbformat_minor": 2
}
